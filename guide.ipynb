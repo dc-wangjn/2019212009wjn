{
 "cells": [
  {
   "cell_type": "markdown",
   "metadata": {},
   "source": [
    "# 作业提交流程及工具使用\n",
    "\n",
    "说明：本文档为了帮助大家完善作业提交流程，并且简要介绍一些很有用的工具的简单用法。"
   ]
  },
  {
   "cell_type": "markdown",
   "metadata": {},
   "source": [
    "## Anaconda\n",
    "\n",
    "Anaconda是一款非常好用的包管理软件，它可以通过创建不同的环境来解决不同项目中python包互相冲突而导致报错的问题。因此熟练掌握anaconda的基本用法及命令是提高工作效率的良策。养成新项目创建新环境的好习惯可以有效避免后期可能出现的一系列问题。\n",
    "\n",
    "Anaconda 下载 [link](https://www.anaconda.com/products/individual)\n",
    "\n",
    "下面介绍一些常用命令：\n",
    "* 打开 Anaconda自带的prompt。\n",
    "![anaconda prompt](prompt.png)\n",
    "`(base)`表示目前处于 base 环境下。\n",
    "* 使用`conda list`命令查看当前环境(base)的python包的安装情况。\n",
    "* 使用`conda env list`命令查看所有可用环境。\n",
    "* 使用`conda create -n envname`命令来创建名为'envname'的新环境。\n",
    "* 使用`conda activate envname`命令进入名为'envname'的环境。\n",
    "* 使用`pip install`或`conda install`命令来在当前环境中安装适当的python包。"
   ]
  },
  {
   "cell_type": "markdown",
   "metadata": {},
   "source": [
    "## Jupyter\n",
    "\n",
    "Jupyter 提供了良好的人机交互界面，并且集成了Markdown、Latex等编辑软件，使得我们可以生成图文并茂并且具有代码及其运行结果作为支撑的优秀报告。本学期我们主要使用Jupyter 软件来生成作业报告。\n",
    "\n",
    "官方网站 [link](https://jupyter.org/)"
   ]
  },
  {
   "cell_type": "markdown",
   "metadata": {},
   "source": [
    "### Jupyter Notebook\n",
    "集成了iPython的经典交互界面，可以运行代码并且展示其结果，也可以使用Markdown进行文档编辑。\n",
    "\n",
    "安装：\n",
    "* Anaconda 自带默认配置Jupyter(base环境)，其根文件路径设置在 \\\\$HOMEPATH\\$ 路径下，可以通过修改默认路径来找到处于其他位置的文件，但是考虑到修改默认路径较为麻烦，因此不推荐使用这种方法。\n",
    "* 另一种考虑新建anaconda环境的情况，使用`conda activate envname`命令进入新环境之后，使用`pip install jupyter`即可以下载jupyter及其套件。\n",
    "\n",
    "使用：\n",
    "* 用anaconda prompt导航至项目路径下，运行`jupyter notebook`命令开启服务，交互界面将会自动跳出，且此时根目录就在项目路径下，可以方便项目管理。\n",
    "* 创建的 notebook 可以用不同的 kernel 打开，其中不同的 kernel 对应了不同的 anaconda 环境。我们需要安装之前配置的新环境对应的 kernel 。使用命令`python -m ipykernel install --name envname`即可以将当前 anaconda 环境安装至 jupyter notebook。\n",
    "* notebook 中每个代码块可以切换不同模式，运行代码使用 code 模式，编辑文字使用 Markdown 模式。"
   ]
  },
  {
   "cell_type": "markdown",
   "metadata": {},
   "source": [
    "# Markdown 语法演示\n",
    "## 二级标题\n",
    "* 插入图片 <img src=\"wifes.jpg\" width = \"300\" height = \"200\" alt=\"图片名称\" align=center />\n",
    "\n",
    "* 插入链接 更详细的内容请参考[Markdown中文文档。](https://markdown-zh.readthedocs.io/en/latest/)\n",
    "\n",
    "* 插入公式 若$x_1,\\dots,x_n\\stackrel{iid}{\\sim}N(0,1)$，则有$\\sum_{i=1}^{n}(x_i-\\bar{x})^{2}\\sim\\chi^{2}(n-1)$。\n",
    "\n"
   ]
  },
  {
   "cell_type": "markdown",
   "metadata": {},
   "source": [
    "### JupyterLab\n",
    "JupyterLab是Jupyter Notebook的扩展版，完美兼容了Jupyter Notebook的所有功能并且提高了文件管理能力，提供了一系列插件接口，可以让Jupyter功能更加强大。其基本可以作为一个成熟的网页版IDE。\n",
    "\n",
    "下载:\n",
    "打开anaconda prompt。首先进入所需环境中，然后运行命令`pip install jupyterlab`,与 notebook 类似，导航至项目所在路径，运行命令`jupyter lab`,将会开启服务并弹出交互界面，若页面没有刷出内容，尝试将URL复制到 Chrome 浏览器打开。\n",
    "\n",
    "界面展示[官网试用版](https://mybinder.org/v2/gh/jupyterlab/jupyterlab-demo/try.jupyter.org?urlpath=lab)"
   ]
  },
  {
   "cell_type": "markdown",
   "metadata": {},
   "source": [
    "## Github\n",
    "Git 是一款免费开源的分布式版本管理系统，它允许我们高效科学的对自己的项目进行版本控制。\n",
    "\n",
    "Git下载[link](https://git-scm.com/downloads)\n",
    "\n",
    "更多关于Git的内容见[Pro Git下载](https://github.com/progit/progit2/releases/download/2.1.260/progit.pdf)。\n",
    "\n",
    "Github 是将Git作为唯一支持的面向开源及私有软件项目的托管平台。[Github官网。](https://github.com/)\n",
    "\n",
    "创建自己的仓库：\n",
    "* 用自己的常用邮箱注册github账号，其中邮箱，密码，账户名十分重要，要妥善保管，在进行版本更新的时候会用到上面的信息。\n",
    "* 点击网页'new'按钮，创建仓库，仓库名为`学号+姓名拼音首字母`，仓库属性设为`Private`。添加`README`和`.gitignore`文件，后者选择`python`类型。点击`create repository`按钮，创建仓库。\n",
    "\n",
    "将远端仓库和本地仓库进行关联：\n",
    "* 下载安装 Git 之后，打开自己项目所在的文件夹，右键鼠标选择`Git Bash here` 选项，跳出 git shell ,在此shell中执行操作。\n",
    "* 运行命令`git init`，将当前目录初始化为 git 仓库。\n",
    "* 复制上一步自己创建的的 github 的URL，例如'https://github.com/dc-wangjn/2019212009wjn.git', 然后运行命令`git remote add origin https://github.com/dc-wangjn/2019212009wjn.git`, 此命令将自己本地仓库与 github 仓库相关联，并将远端仓库命名为`origin`。\n",
    "\n",
    "\n",
    "将自己本地仓库的修改推送到远端仓库：\n",
    "* 运行命令 `git pull origin master`,此命令意为将关联的远端仓库`origin`的`master`branch内容拉取到本地,注意在每次更新远端仓库之前运行此命令是一个好习惯，因为我们在自己修改内容之前要知道远端仓库的最新内容是什么，在此基础上进行修改才有意义。\n",
    "* 在完成项目内容的修改之后，在 git shell 运行命令`git add .`将本地仓库的修改进行追踪。\n",
    "* 运行命令 `git status`可以查看当前目录的文件情况，绿色的文件表示已经添加到了提交队列，红色的文件表示由于修改或者其他原因还未添加到提交队列。\n",
    "* 如果所有文件显示为绿色，可以进行提交操作，运行命令`git commit -m 'commit messege'`,进行提交，其中`'commit messege'`为上传者自拟，应该为本次提交的主要内容，方便日后查看。\n",
    "* 提交完成后就可以将本地修改推送到远端仓库了,运行命令`git push origin master`,此命令将本地 commit 内容推送到远端仓库 origin 的 master 分支。此命令后会要求输入 github 的 账户名以及密码，依次输入即可，传送完成后刷新 github 仓库页面就可以看到更新内容，大功告成 :)。\n",
    "\n",
    "将自己的仓库设为对老师和助教可见。\n",
    "* 在 github 仓库页面找到 setting 按钮，点击之后在左端找到 Manage access 按钮，点击 Invite a collaborator 按钮，邀请老师和助教协作本仓库。\n",
    "* 周老师的 github 账号为 Fan Zhou\n",
    "* 助教的 github 账号为 dc-wangjn\n"
   ]
  }
 ],
 "metadata": {
  "kernelspec": {
   "display_name": "irl",
   "language": "python",
   "name": "irl"
  },
  "language_info": {
   "codemirror_mode": {
    "name": "ipython",
    "version": 3
   },
   "file_extension": ".py",
   "mimetype": "text/x-python",
   "name": "python",
   "nbconvert_exporter": "python",
   "pygments_lexer": "ipython3",
   "version": "3.7.5"
  }
 },
 "nbformat": 4,
 "nbformat_minor": 4
}
