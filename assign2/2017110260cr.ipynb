{
 "cells": [
  {
   "cell_type": "code",
   "execution_count": 1,
   "metadata": {},
   "outputs": [],
   "source": [
    "import numpy as np\n",
    "from sklearn.model_selection import train_test_split\n",
    "from sklearn.metrics import mean_squared_error,mean_absolute_error\n",
    "from sklearn.datasets import load_boston\n",
    "boston = load_boston()"
   ]
  },
  {
   "cell_type": "markdown",
   "metadata": {},
   "source": [
    "根据作业文件，lasso问题的迭代算法为$$(\\beta^{t+1})_j=(1-\\frac{\\lambda\\mu}{|\\tilde{\\beta_j^t}|})_{+}\\tilde{\\beta^t_j},j=1,\\dots,p$$\n",
    "其中$\\tilde{\\beta^t}=\\beta^t-\\mu\\nabla f(\\beta^t)$\n",
    "\n",
    "我们设$$f(\\beta)=\\frac{1}{2}||y-x^T\\beta||^2_2$$因此$$\\nabla f(\\beta^t)=x(x^T\\beta-y)$$由此得到了迭代算法的显式公式。\n",
    "\n",
    "接下来我们定义$(u)_+$函数、导数函数和示性函，然后写出迭代算法。"
   ]
  },
  {
   "cell_type": "code",
   "execution_count": 2,
   "metadata": {},
   "outputs": [],
   "source": [
    "def vector_relu(u):\n",
    "    for i in range(len(u)):\n",
    "        u[i]=max(0,u[i,0])\n",
    "    return u\n",
    "\n",
    "def grad(x,beta,y):     \n",
    "    return x.T.dot(x.dot(beta) - y)\n",
    "\n",
    "def sign(x):\n",
    "    n=x.shape[0]\n",
    "    signal=np.zeros(n)\n",
    "    for i in range(n):\n",
    "        if x[i,0]!=0:\n",
    "            signal[i]=x[i,0]/abs(x[i,0])\n",
    "        else:\n",
    "            signal[i]=0;\n",
    "    return signal.reshape(n,1)\n",
    "\n",
    "def lasso_proximal(X,y,lambda_lasso,max_iter,epsilon=1e-10):\n",
    "    n = X.shape[1]\n",
    "    beta = np.zeros((n,1))\n",
    "    #mu设为0.0001\n",
    "    mu = np.linspace(0.0001,0.0001,n).reshape(1,n)\n",
    "    y = y.reshape(len(y),1)\n",
    "    for i in range(max_iter):\n",
    "        beta_j1 = beta - mu.T*grad(X,beta,y)\n",
    "        beta_j1 = vector_relu(abs(beta_j1)-mu.T * lambda_lasso) * sign(beta_j1)\n",
    "        #使用调整的相对收敛准则\n",
    "        if (sum(abs(beta_j1 - beta))/(sum(abs(beta))+epsilon)) < epsilon:\n",
    "            beta = beta_j1\n",
    "            break\n",
    "        else:\n",
    "            beta = beta_j1\n",
    "    return beta\n",
    "    \n",
    "    "
   ]
  },
  {
   "cell_type": "markdown",
   "metadata": {},
   "source": [
    "接下来我们对数据集进行划分，为训练集和测试集，通过交叉验证，找到最优的$\\lambda$，由于lasso是一种有偏方法，所以如果用MSE来评估效果是无效的，我选择的评价标准是BIC，因为BIC准则考虑了参数个数。"
   ]
  },
  {
   "cell_type": "code",
   "execution_count": 3,
   "metadata": {},
   "outputs": [],
   "source": [
    "#对数据进行标准化\n",
    "def normalization_X(x):\n",
    "    return (x-x.mean(axis=0))/x.std(axis=0)\n",
    "\n",
    "def normalization_y(y): \n",
    "    return (y-y.mean)/y.std  \n",
    "#获取数据\n",
    "X = boston.data\n",
    "y = boston.target\n",
    "X_train,X_test,y_train,y_test = train_test_split(X,y,test_size=0.3,random_state=2017110260)\n",
    "X_train_n = normalization_X(X_train)\n",
    "X_test_n = normalization_X(X_test)\n",
    "y_train_n = normalization_X(y_train)\n",
    "y_test_n = normalization_X(y_test)"
   ]
  },
  {
   "cell_type": "code",
   "execution_count": 5,
   "metadata": {},
   "outputs": [],
   "source": [
    "#5折交叉验证选取lambda\n",
    "num_folds = 5\n",
    "lambda_choices = [pow(10, -3+0.1*i) for i in range(61)]\n",
    "X_train_folds = []\n",
    "y_train_folds = []\n",
    "k_bics = {}\n",
    "k_mses = {}\n",
    "#划分数据集\n",
    "X_train_folds = np.array_split(X_train_n, num_folds)\n",
    "y_train_folds = np.array_split(y_train_n, num_folds)\n",
    "\n",
    "for k in lambda_choices:\n",
    "    bic = []\n",
    "    mse = []\n",
    "    for i in range(num_folds):\n",
    "        Xtr = np.concatenate(X_train_folds[:i] + X_train_folds[i+1:])\n",
    "        ytr = np.concatenate(y_train_folds[:i] + y_train_folds[i+1:])\n",
    "        Xcv = X_train_folds[i]\n",
    "        ycv = y_train_folds[i]\n",
    "        #计算beta\n",
    "        beta = lasso_proximal(Xtr,ytr,k,max_iter=10000)\n",
    "        y_train_predict=Xcv.dot(beta)\n",
    "        n=Xcv.shape[0]\n",
    "        #计算BIC\n",
    "        bic_predict = n*np.log(mean_squared_error(ycv,y_train_predict))+np.log(n)*np.sum(np.abs(sign(beta)))\n",
    "        bic.append(bic_predict)\n",
    "        #计算MSE\n",
    "        mse_predict = mean_squared_error(ycv,y_train_predict)\n",
    "        mse.append(mse_predict)\n",
    "    k_bics[k] = bic\n",
    "    k_mses[k] = mse\n"
   ]
  },
  {
   "cell_type": "code",
   "execution_count": 7,
   "metadata": {},
   "outputs": [
    {
     "name": "stdout",
     "output_type": "stream",
     "text": [
      "最优超参数为31.622776601683793，此时BIC为-62.2997794617605，此时MSE为0.36836264302460814\n"
     ]
    }
   ],
   "source": [
    "best_k=0\n",
    "best_k_bic=0\n",
    "best_k_mse=0\n",
    "#找到最优lambda\n",
    "for k in sorted(k_bics):\n",
    "    avg_bic = sum(k_bics[k][:])/num_folds\n",
    "    avg_mse = sum(k_mses[k][:])/num_folds\n",
    "    if best_k_bic>avg_bic:\n",
    "        best_k=k\n",
    "        best_k_bic=avg_bic\n",
    "        best_k_mse=avg_mse\n",
    "print('最优超参数为'+str(best_k)+'，此时BIC为'+str(best_k_bic)+'，此时MSE为'+str(best_k_mse))"
   ]
  },
  {
   "cell_type": "code",
   "execution_count": 8,
   "metadata": {},
   "outputs": [
    {
     "data": {
      "text/plain": [
       "array([[-0.        ],\n",
       "       [ 0.        ],\n",
       "       [-0.        ],\n",
       "       [ 0.02246276],\n",
       "       [-0.        ],\n",
       "       [ 0.26771667],\n",
       "       [-0.        ],\n",
       "       [-0.        ],\n",
       "       [-0.        ],\n",
       "       [-0.        ],\n",
       "       [-0.14691206],\n",
       "       [ 0.        ],\n",
       "       [-0.43204338]])"
      ]
     },
     "execution_count": 8,
     "metadata": {},
     "output_type": "execute_result"
    }
   ],
   "source": [
    "beta_final = lasso_proximal(Xtr,ytr,31.622776601683793 ,max_iter=10000)\n",
    "beta_final"
   ]
  },
  {
   "cell_type": "markdown",
   "metadata": {},
   "source": [
    "我们可以看到，此时beta有9个系数都被成功压到0，这与lasso的思想相一致。\n",
    "\n",
    "我们可以看到，对房价有显著影响的变量有是否有河道、每间住宅的平均房间数、城镇的学生与教师比例、人口状况下降，这四个变量显著相关。其中是否有河道、平均房间数的系数为正；城镇的学生与教师比例、人口状况下降的系数为负，这说明存在河道、平均房间数越多，教师与学生相对比例越大，人口越多的地区，房价越高。由于数据进行了标准化，因此系数绝对值的相对大小可以反应变量的重要性；人口数量、平均房间数、教师相对与学生比例的重要性递减。"
   ]
  }
 ],
 "metadata": {
  "kernelspec": {
   "display_name": "ve",
   "language": "python",
   "name": "ve"
  },
  "language_info": {
   "codemirror_mode": {
    "name": "ipython",
    "version": 3
   },
   "file_extension": ".py",
   "mimetype": "text/x-python",
   "name": "python",
   "nbconvert_exporter": "python",
   "pygments_lexer": "ipython3",
   "version": "3.7.3"
  }
 },
 "nbformat": 4,
 "nbformat_minor": 4
}
